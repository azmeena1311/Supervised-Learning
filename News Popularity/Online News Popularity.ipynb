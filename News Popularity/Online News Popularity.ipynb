{
 "cells": [
  {
   "cell_type": "code",
   "execution_count": 1,
   "metadata": {},
   "outputs": [],
   "source": [
    "import pandas as pd\n",
    "import numpy as np\n",
    "import matplotlib.pyplot as plt\n",
    "import seaborn as sns\n",
    "pd.set_option('display.max_rows', None)"
   ]
  },
  {
   "cell_type": "code",
   "execution_count": 2,
   "metadata": {},
   "outputs": [],
   "source": [
    "train_data = pd.read_csv(\"data/train.csv\")\n",
    "test_data = pd.read_csv(\"data/test.csv\")"
   ]
  },
  {
   "cell_type": "code",
   "execution_count": 3,
   "metadata": {},
   "outputs": [
    {
     "data": {
      "text/plain": [
       "((29733, 61), (9911, 60))"
      ]
     },
     "execution_count": 3,
     "metadata": {},
     "output_type": "execute_result"
    }
   ],
   "source": [
    "train_data.shape,test_data.shape"
   ]
  },
  {
   "cell_type": "code",
   "execution_count": 4,
   "metadata": {},
   "outputs": [
    {
     "data": {
      "text/html": [
       "<div>\n",
       "<style scoped>\n",
       "    .dataframe tbody tr th:only-of-type {\n",
       "        vertical-align: middle;\n",
       "    }\n",
       "\n",
       "    .dataframe tbody tr th {\n",
       "        vertical-align: top;\n",
       "    }\n",
       "\n",
       "    .dataframe thead th {\n",
       "        text-align: right;\n",
       "    }\n",
       "</style>\n",
       "<table border=\"1\" class=\"dataframe\">\n",
       "  <thead>\n",
       "    <tr style=\"text-align: right;\">\n",
       "      <th></th>\n",
       "      <th>url</th>\n",
       "      <th>timedelta</th>\n",
       "      <th>n_tokens_title</th>\n",
       "      <th>n_tokens_content</th>\n",
       "      <th>n_unique_tokens</th>\n",
       "      <th>n_non_stop_words</th>\n",
       "      <th>n_non_stop_unique_tokens</th>\n",
       "      <th>num_hrefs</th>\n",
       "      <th>num_self_hrefs</th>\n",
       "      <th>num_imgs</th>\n",
       "      <th>...</th>\n",
       "      <th>min_positive_polarity</th>\n",
       "      <th>max_positive_polarity</th>\n",
       "      <th>avg_negative_polarity</th>\n",
       "      <th>min_negative_polarity</th>\n",
       "      <th>max_negative_polarity</th>\n",
       "      <th>title_subjectivity</th>\n",
       "      <th>title_sentiment_polarity</th>\n",
       "      <th>abs_title_subjectivity</th>\n",
       "      <th>abs_title_sentiment_polarity</th>\n",
       "      <th>shares</th>\n",
       "    </tr>\n",
       "  </thead>\n",
       "  <tbody>\n",
       "    <tr>\n",
       "      <th>0</th>\n",
       "      <td>http://mashable.com/2014/05/29/beats-solo-2-re...</td>\n",
       "      <td>224.0</td>\n",
       "      <td>8.0</td>\n",
       "      <td>337.0</td>\n",
       "      <td>0.542424</td>\n",
       "      <td>1.0</td>\n",
       "      <td>0.685279</td>\n",
       "      <td>8.0</td>\n",
       "      <td>1.0</td>\n",
       "      <td>2.0</td>\n",
       "      <td>...</td>\n",
       "      <td>0.05</td>\n",
       "      <td>0.5</td>\n",
       "      <td>-0.307407</td>\n",
       "      <td>-0.6</td>\n",
       "      <td>-0.155556</td>\n",
       "      <td>0.0</td>\n",
       "      <td>0.0</td>\n",
       "      <td>0.5</td>\n",
       "      <td>0.0</td>\n",
       "      <td>45100</td>\n",
       "    </tr>\n",
       "    <tr>\n",
       "      <th>1</th>\n",
       "      <td>http://mashable.com/2014/01/16/jawbone-era-hea...</td>\n",
       "      <td>357.0</td>\n",
       "      <td>13.0</td>\n",
       "      <td>384.0</td>\n",
       "      <td>0.577465</td>\n",
       "      <td>1.0</td>\n",
       "      <td>0.750000</td>\n",
       "      <td>8.0</td>\n",
       "      <td>7.0</td>\n",
       "      <td>1.0</td>\n",
       "      <td>...</td>\n",
       "      <td>0.10</td>\n",
       "      <td>1.0</td>\n",
       "      <td>-0.147685</td>\n",
       "      <td>-0.2</td>\n",
       "      <td>-0.050000</td>\n",
       "      <td>0.0</td>\n",
       "      <td>0.0</td>\n",
       "      <td>0.5</td>\n",
       "      <td>0.0</td>\n",
       "      <td>5100</td>\n",
       "    </tr>\n",
       "    <tr>\n",
       "      <th>2</th>\n",
       "      <td>http://mashable.com/2013/06/06/snapchat-update/</td>\n",
       "      <td>581.0</td>\n",
       "      <td>7.0</td>\n",
       "      <td>228.0</td>\n",
       "      <td>0.706667</td>\n",
       "      <td>1.0</td>\n",
       "      <td>0.877698</td>\n",
       "      <td>9.0</td>\n",
       "      <td>4.0</td>\n",
       "      <td>1.0</td>\n",
       "      <td>...</td>\n",
       "      <td>0.10</td>\n",
       "      <td>1.0</td>\n",
       "      <td>-0.309524</td>\n",
       "      <td>-0.5</td>\n",
       "      <td>-0.178571</td>\n",
       "      <td>0.0</td>\n",
       "      <td>0.0</td>\n",
       "      <td>0.5</td>\n",
       "      <td>0.0</td>\n",
       "      <td>990</td>\n",
       "    </tr>\n",
       "  </tbody>\n",
       "</table>\n",
       "<p>3 rows × 61 columns</p>\n",
       "</div>"
      ],
      "text/plain": [
       "                                                 url   timedelta  \\\n",
       "0  http://mashable.com/2014/05/29/beats-solo-2-re...       224.0   \n",
       "1  http://mashable.com/2014/01/16/jawbone-era-hea...       357.0   \n",
       "2    http://mashable.com/2013/06/06/snapchat-update/       581.0   \n",
       "\n",
       "    n_tokens_title   n_tokens_content   n_unique_tokens   n_non_stop_words  \\\n",
       "0              8.0              337.0          0.542424                1.0   \n",
       "1             13.0              384.0          0.577465                1.0   \n",
       "2              7.0              228.0          0.706667                1.0   \n",
       "\n",
       "    n_non_stop_unique_tokens   num_hrefs   num_self_hrefs   num_imgs  ...  \\\n",
       "0                   0.685279         8.0              1.0        2.0  ...   \n",
       "1                   0.750000         8.0              7.0        1.0  ...   \n",
       "2                   0.877698         9.0              4.0        1.0  ...   \n",
       "\n",
       "    min_positive_polarity   max_positive_polarity   avg_negative_polarity  \\\n",
       "0                    0.05                     0.5               -0.307407   \n",
       "1                    0.10                     1.0               -0.147685   \n",
       "2                    0.10                     1.0               -0.309524   \n",
       "\n",
       "    min_negative_polarity   max_negative_polarity   title_subjectivity  \\\n",
       "0                    -0.6               -0.155556                  0.0   \n",
       "1                    -0.2               -0.050000                  0.0   \n",
       "2                    -0.5               -0.178571                  0.0   \n",
       "\n",
       "    title_sentiment_polarity   abs_title_subjectivity  \\\n",
       "0                        0.0                      0.5   \n",
       "1                        0.0                      0.5   \n",
       "2                        0.0                      0.5   \n",
       "\n",
       "    abs_title_sentiment_polarity   shares  \n",
       "0                            0.0    45100  \n",
       "1                            0.0     5100  \n",
       "2                            0.0      990  \n",
       "\n",
       "[3 rows x 61 columns]"
      ]
     },
     "execution_count": 4,
     "metadata": {},
     "output_type": "execute_result"
    }
   ],
   "source": [
    "train_data.head(3)"
   ]
  },
  {
   "cell_type": "code",
   "execution_count": 5,
   "metadata": {},
   "outputs": [
    {
     "data": {
      "text/html": [
       "<div>\n",
       "<style scoped>\n",
       "    .dataframe tbody tr th:only-of-type {\n",
       "        vertical-align: middle;\n",
       "    }\n",
       "\n",
       "    .dataframe tbody tr th {\n",
       "        vertical-align: top;\n",
       "    }\n",
       "\n",
       "    .dataframe thead th {\n",
       "        text-align: right;\n",
       "    }\n",
       "</style>\n",
       "<table border=\"1\" class=\"dataframe\">\n",
       "  <thead>\n",
       "    <tr style=\"text-align: right;\">\n",
       "      <th></th>\n",
       "      <th>url</th>\n",
       "      <th>timedelta</th>\n",
       "      <th>n_tokens_title</th>\n",
       "      <th>n_tokens_content</th>\n",
       "      <th>n_unique_tokens</th>\n",
       "      <th>n_non_stop_words</th>\n",
       "      <th>n_non_stop_unique_tokens</th>\n",
       "      <th>num_hrefs</th>\n",
       "      <th>num_self_hrefs</th>\n",
       "      <th>num_imgs</th>\n",
       "      <th>...</th>\n",
       "      <th>avg_positive_polarity</th>\n",
       "      <th>min_positive_polarity</th>\n",
       "      <th>max_positive_polarity</th>\n",
       "      <th>avg_negative_polarity</th>\n",
       "      <th>min_negative_polarity</th>\n",
       "      <th>max_negative_polarity</th>\n",
       "      <th>title_subjectivity</th>\n",
       "      <th>title_sentiment_polarity</th>\n",
       "      <th>abs_title_subjectivity</th>\n",
       "      <th>abs_title_sentiment_polarity</th>\n",
       "    </tr>\n",
       "  </thead>\n",
       "  <tbody>\n",
       "    <tr>\n",
       "      <th>0</th>\n",
       "      <td>http://mashable.com/2014/11/26/vloggers-ad-vid...</td>\n",
       "      <td>39.0</td>\n",
       "      <td>13.0</td>\n",
       "      <td>401.0</td>\n",
       "      <td>0.477212</td>\n",
       "      <td>1.0</td>\n",
       "      <td>0.538462</td>\n",
       "      <td>13.0</td>\n",
       "      <td>0.0</td>\n",
       "      <td>1.0</td>\n",
       "      <td>...</td>\n",
       "      <td>0.256818</td>\n",
       "      <td>0.050000</td>\n",
       "      <td>0.8</td>\n",
       "      <td>-0.256250</td>\n",
       "      <td>-0.3</td>\n",
       "      <td>-0.125000</td>\n",
       "      <td>0.227273</td>\n",
       "      <td>0.068182</td>\n",
       "      <td>0.272727</td>\n",
       "      <td>0.068182</td>\n",
       "    </tr>\n",
       "    <tr>\n",
       "      <th>1</th>\n",
       "      <td>http://mashable.com/2013/10/31/android-kitkat-...</td>\n",
       "      <td>434.0</td>\n",
       "      <td>9.0</td>\n",
       "      <td>400.0</td>\n",
       "      <td>0.578005</td>\n",
       "      <td>1.0</td>\n",
       "      <td>0.742857</td>\n",
       "      <td>9.0</td>\n",
       "      <td>0.0</td>\n",
       "      <td>0.0</td>\n",
       "      <td>...</td>\n",
       "      <td>0.310146</td>\n",
       "      <td>0.033333</td>\n",
       "      <td>0.6</td>\n",
       "      <td>-0.249444</td>\n",
       "      <td>-0.5</td>\n",
       "      <td>-0.133333</td>\n",
       "      <td>0.383333</td>\n",
       "      <td>-0.183333</td>\n",
       "      <td>0.116667</td>\n",
       "      <td>0.183333</td>\n",
       "    </tr>\n",
       "    <tr>\n",
       "      <th>2</th>\n",
       "      <td>http://mashable.com/2013/05/10/alfonso-cuaron-...</td>\n",
       "      <td>608.0</td>\n",
       "      <td>10.0</td>\n",
       "      <td>181.0</td>\n",
       "      <td>0.620112</td>\n",
       "      <td>1.0</td>\n",
       "      <td>0.772277</td>\n",
       "      <td>2.0</td>\n",
       "      <td>2.0</td>\n",
       "      <td>0.0</td>\n",
       "      <td>...</td>\n",
       "      <td>0.387273</td>\n",
       "      <td>0.100000</td>\n",
       "      <td>1.0</td>\n",
       "      <td>-0.443750</td>\n",
       "      <td>-0.7</td>\n",
       "      <td>-0.187500</td>\n",
       "      <td>0.333333</td>\n",
       "      <td>0.250000</td>\n",
       "      <td>0.166667</td>\n",
       "      <td>0.250000</td>\n",
       "    </tr>\n",
       "  </tbody>\n",
       "</table>\n",
       "<p>3 rows × 60 columns</p>\n",
       "</div>"
      ],
      "text/plain": [
       "                                                 url   timedelta  \\\n",
       "0  http://mashable.com/2014/11/26/vloggers-ad-vid...        39.0   \n",
       "1  http://mashable.com/2013/10/31/android-kitkat-...       434.0   \n",
       "2  http://mashable.com/2013/05/10/alfonso-cuaron-...       608.0   \n",
       "\n",
       "    n_tokens_title   n_tokens_content   n_unique_tokens   n_non_stop_words  \\\n",
       "0             13.0              401.0          0.477212                1.0   \n",
       "1              9.0              400.0          0.578005                1.0   \n",
       "2             10.0              181.0          0.620112                1.0   \n",
       "\n",
       "    n_non_stop_unique_tokens   num_hrefs   num_self_hrefs   num_imgs  ...  \\\n",
       "0                   0.538462        13.0              0.0        1.0  ...   \n",
       "1                   0.742857         9.0              0.0        0.0  ...   \n",
       "2                   0.772277         2.0              2.0        0.0  ...   \n",
       "\n",
       "    avg_positive_polarity   min_positive_polarity   max_positive_polarity  \\\n",
       "0                0.256818                0.050000                     0.8   \n",
       "1                0.310146                0.033333                     0.6   \n",
       "2                0.387273                0.100000                     1.0   \n",
       "\n",
       "    avg_negative_polarity   min_negative_polarity   max_negative_polarity  \\\n",
       "0               -0.256250                    -0.3               -0.125000   \n",
       "1               -0.249444                    -0.5               -0.133333   \n",
       "2               -0.443750                    -0.7               -0.187500   \n",
       "\n",
       "    title_subjectivity   title_sentiment_polarity   abs_title_subjectivity  \\\n",
       "0             0.227273                   0.068182                 0.272727   \n",
       "1             0.383333                  -0.183333                 0.116667   \n",
       "2             0.333333                   0.250000                 0.166667   \n",
       "\n",
       "    abs_title_sentiment_polarity  \n",
       "0                       0.068182  \n",
       "1                       0.183333  \n",
       "2                       0.250000  \n",
       "\n",
       "[3 rows x 60 columns]"
      ]
     },
     "execution_count": 5,
     "metadata": {},
     "output_type": "execute_result"
    }
   ],
   "source": [
    "test_data.head(3)"
   ]
  },
  {
   "cell_type": "code",
   "execution_count": 6,
   "metadata": {},
   "outputs": [],
   "source": [
    "# function for download\n",
    "\n",
    "def download_preds(preds_test, file_name = 'sub.csv'):\n",
    "    \n",
    "    df = pd.DataFrame()\n",
    "\n",
    "  ## 1. Setting the target column with our obtained predictions\n",
    "    df['prediction'] = preds_test\n",
    "\n",
    "  ## 2. Saving our predictions to a csv file\n",
    "\n",
    "    df.to_csv(file_name, index = False)"
   ]
  },
  {
   "cell_type": "markdown",
   "metadata": {},
   "source": [
    "## Descriptive Analysis"
   ]
  },
  {
   "cell_type": "code",
   "execution_count": 9,
   "metadata": {
    "scrolled": true
   },
   "outputs": [
    {
     "data": {
      "text/plain": [
       "0"
      ]
     },
     "execution_count": 9,
     "metadata": {},
     "output_type": "execute_result"
    }
   ],
   "source": [
    "train_data.isnull().sum().sum()"
   ]
  },
  {
   "cell_type": "code",
   "execution_count": 10,
   "metadata": {},
   "outputs": [
    {
     "data": {
      "text/plain": [
       "0"
      ]
     },
     "execution_count": 10,
     "metadata": {},
     "output_type": "execute_result"
    }
   ],
   "source": [
    "test_data.isnull().sum().sum()"
   ]
  },
  {
   "cell_type": "code",
   "execution_count": 11,
   "metadata": {},
   "outputs": [
    {
     "name": "stdout",
     "output_type": "stream",
     "text": [
      "<class 'pandas.core.frame.DataFrame'>\n",
      "RangeIndex: 29733 entries, 0 to 29732\n",
      "Data columns (total 61 columns):\n",
      " #   Column                          Non-Null Count  Dtype  \n",
      "---  ------                          --------------  -----  \n",
      " 0   url                             29733 non-null  object \n",
      " 1    timedelta                      29733 non-null  float64\n",
      " 2    n_tokens_title                 29733 non-null  float64\n",
      " 3    n_tokens_content               29733 non-null  float64\n",
      " 4    n_unique_tokens                29733 non-null  float64\n",
      " 5    n_non_stop_words               29733 non-null  float64\n",
      " 6    n_non_stop_unique_tokens       29733 non-null  float64\n",
      " 7    num_hrefs                      29733 non-null  float64\n",
      " 8    num_self_hrefs                 29733 non-null  float64\n",
      " 9    num_imgs                       29733 non-null  float64\n",
      " 10   num_videos                     29733 non-null  float64\n",
      " 11   average_token_length           29733 non-null  float64\n",
      " 12   num_keywords                   29733 non-null  float64\n",
      " 13   data_channel_is_lifestyle      29733 non-null  float64\n",
      " 14   data_channel_is_entertainment  29733 non-null  float64\n",
      " 15   data_channel_is_bus            29733 non-null  float64\n",
      " 16   data_channel_is_socmed         29733 non-null  float64\n",
      " 17   data_channel_is_tech           29733 non-null  float64\n",
      " 18   data_channel_is_world          29733 non-null  float64\n",
      " 19   kw_min_min                     29733 non-null  float64\n",
      " 20   kw_max_min                     29733 non-null  float64\n",
      " 21   kw_avg_min                     29733 non-null  float64\n",
      " 22   kw_min_max                     29733 non-null  float64\n",
      " 23   kw_max_max                     29733 non-null  float64\n",
      " 24   kw_avg_max                     29733 non-null  float64\n",
      " 25   kw_min_avg                     29733 non-null  float64\n",
      " 26   kw_max_avg                     29733 non-null  float64\n",
      " 27   kw_avg_avg                     29733 non-null  float64\n",
      " 28   self_reference_min_shares      29733 non-null  float64\n",
      " 29   self_reference_max_shares      29733 non-null  float64\n",
      " 30   self_reference_avg_sharess     29733 non-null  float64\n",
      " 31   weekday_is_monday              29733 non-null  float64\n",
      " 32   weekday_is_tuesday             29733 non-null  float64\n",
      " 33   weekday_is_wednesday           29733 non-null  float64\n",
      " 34   weekday_is_thursday            29733 non-null  float64\n",
      " 35   weekday_is_friday              29733 non-null  float64\n",
      " 36   weekday_is_saturday            29733 non-null  float64\n",
      " 37   weekday_is_sunday              29733 non-null  float64\n",
      " 38   is_weekend                     29733 non-null  float64\n",
      " 39   LDA_00                         29733 non-null  float64\n",
      " 40   LDA_01                         29733 non-null  float64\n",
      " 41   LDA_02                         29733 non-null  float64\n",
      " 42   LDA_03                         29733 non-null  float64\n",
      " 43   LDA_04                         29733 non-null  float64\n",
      " 44   global_subjectivity            29733 non-null  float64\n",
      " 45   global_sentiment_polarity      29733 non-null  float64\n",
      " 46   global_rate_positive_words     29733 non-null  float64\n",
      " 47   global_rate_negative_words     29733 non-null  float64\n",
      " 48   rate_positive_words            29733 non-null  float64\n",
      " 49   rate_negative_words            29733 non-null  float64\n",
      " 50   avg_positive_polarity          29733 non-null  float64\n",
      " 51   min_positive_polarity          29733 non-null  float64\n",
      " 52   max_positive_polarity          29733 non-null  float64\n",
      " 53   avg_negative_polarity          29733 non-null  float64\n",
      " 54   min_negative_polarity          29733 non-null  float64\n",
      " 55   max_negative_polarity          29733 non-null  float64\n",
      " 56   title_subjectivity             29733 non-null  float64\n",
      " 57   title_sentiment_polarity       29733 non-null  float64\n",
      " 58   abs_title_subjectivity         29733 non-null  float64\n",
      " 59   abs_title_sentiment_polarity   29733 non-null  float64\n",
      " 60   shares                         29733 non-null  int64  \n",
      "dtypes: float64(59), int64(1), object(1)\n",
      "memory usage: 13.8+ MB\n"
     ]
    }
   ],
   "source": [
    "train_data.info()"
   ]
  },
  {
   "cell_type": "code",
   "execution_count": 12,
   "metadata": {},
   "outputs": [],
   "source": [
    "train_data = train_data.drop('url',axis=1)\n",
    "test_data = test_data.drop('url',axis=1)"
   ]
  },
  {
   "cell_type": "code",
   "execution_count": 13,
   "metadata": {},
   "outputs": [
    {
     "data": {
      "text/plain": [
       "<matplotlib.axes._subplots.AxesSubplot at 0x25d71d404f0>"
      ]
     },
     "execution_count": 13,
     "metadata": {},
     "output_type": "execute_result"
    },
    {
     "data": {
      "image/png": "[encoded data removed]",
      "text/plain": [
       "<Figure size 432x288 with 1 Axes>"
      ]
     },
     "metadata": {
      "needs_background": "light"
     },
     "output_type": "display_data"
    }
   ],
   "source": [
    "sns.distplot(np.log(train_data[' shares']))"
   ]
  },
  {
   "cell_type": "code",
   "execution_count": 14,
   "metadata": {},
   "outputs": [],
   "source": [
    "X = train_data.drop([' shares'],axis=1)\n",
    "y = train_data[' shares']\n",
    "x_test = test_data"
   ]
  },
  {
   "cell_type": "code",
   "execution_count": 16,
   "metadata": {},
   "outputs": [],
   "source": [
    "# from sklearn.preprocessing import StandardScaler\n",
    "# sc = StandardScaler()\n",
    "# X_scaled = sc.fit_transform(X)\n",
    "# x_test_scaled = sc.transform(x_test)"
   ]
  },
  {
   "cell_type": "code",
   "execution_count": 17,
   "metadata": {},
   "outputs": [],
   "source": [
    "from sklearn.model_selection import train_test_split\n",
    "X_train,X_test,y_train,y_test = train_test_split(X,y,test_size=0.3,random_state=45)"
   ]
  },
  {
   "cell_type": "code",
   "execution_count": null,
   "metadata": {},
   "outputs": [],
   "source": [
    "# from sklearn.preprocessing import StandardScaler\n",
    "# sc = StandardScaler()\n",
    "# X_train = sc.fit_transform(X_train)\n",
    "# X_test= sc.transform(X_test)\n",
    "# x_test= sc.transform(x_test)"
   ]
  },
  {
   "cell_type": "code",
   "execution_count": 21,
   "metadata": {},
   "outputs": [],
   "source": [
    "from sklearn.metrics import mean_squared_error\n",
    "from math import sqrt\n",
    "from sklearn.model_selection import RandomizedSearchCV"
   ]
  },
  {
   "cell_type": "markdown",
   "metadata": {},
   "source": [
    "## a. Linear Regression"
   ]
  },
  {
   "cell_type": "code",
   "execution_count": null,
   "metadata": {},
   "outputs": [],
   "source": [
    "from sklearn.linear_model import LinearRegression\n",
    "lr = LinearRegression()\n",
    "lr.fit(X_train,y_train)\n",
    "\n",
    "y_test_pred_lr = lr.predict(X_test)\n",
    "print(\"RMSE : \" , np.sqrt(mean_squared_error(y_test,y_test_pred_lr)))"
   ]
  },
  {
   "cell_type": "code",
   "execution_count": null,
   "metadata": {},
   "outputs": [],
   "source": [
    "preds_test = lr.predict(x_test)\n",
    "download_preds(preds_test, file_name='lr.csv')"
   ]
  },
  {
   "cell_type": "markdown",
   "metadata": {},
   "source": [
    "## LGBM"
   ]
  },
  {
   "cell_type": "code",
   "execution_count": null,
   "metadata": {},
   "outputs": [],
   "source": [
    "params={ \"n_estimators\" : [100,300,500,1000,1500],\n",
    "       \"learning_rate\": [0.01,0.02,0.05,0.08],\n",
    "       \"reg_alpha\":[1,2,3,5,10],\n",
    "       \"reg_lambda\":[1,2,3,4,5,6,7,8,9,10],\n",
    "       \" colsample_bytree\":[0.12,0.23,0.45,0.76,0.86]}\n",
    "\n",
    "classifier=LGBMRegressor(random_state=45)\n",
    "\n",
    "random_search=RandomizedSearchCV(classifier,param_distributions=params,n_iter\n",
    "=5,scoring='neg_root_mean_squared_error',n_jobs=-1,cv=5,verbose=3)\n",
    "random_search.fit(X,y)\n",
    "\n",
    "print('Best rmse: {:.4}, with best C: {}'.format(random_search.best_score_, random_search.best_params_))"
   ]
  },
  {
   "cell_type": "code",
   "execution_count": null,
   "metadata": {},
   "outputs": [],
   "source": [
    "params = random_search.best_params_\n",
    "\n",
    "from lightgbm import LGBMRegressor\n",
    "lgb =  LGBMRegressor(**params,random_state=45)\n",
    "lgb.fit(X_train,y_train)\n",
    "\n",
    "y_test_pred_lgb = lgb.predict(X_test)\n",
    "print(\"RMSE : \" , np.sqrt(mean_squared_error(y_test,y_test_pred_lgb)))"
   ]
  },
  {
   "cell_type": "code",
   "execution_count": null,
   "metadata": {},
   "outputs": [],
   "source": [
    "preds_test = lgb.predict(x_test)\n",
    "download_preds(preds_test, file_name='lgb.csv')"
   ]
  },
  {
   "cell_type": "code",
   "execution_count": null,
   "metadata": {
    "scrolled": true
   },
   "outputs": [],
   "source": [
    "from catboost import CatBoostRegressor\n",
    "cat = CatBoostRegressor()\n",
    "cat.fit(X_train,y_train)\n",
    "\n",
    "y_test_pred_cat = cat.predict(X_test)\n",
    "print(\"RMSE : \" , np.sqrt(mean_squared_error(y_test,y_test_pred_cat)))"
   ]
  },
  {
   "cell_type": "code",
   "execution_count": null,
   "metadata": {},
   "outputs": [],
   "source": [
    "preds_test = cat.predict(x_test)\n",
    "download_preds(preds_test, file_name='cat.csv')"
   ]
  },
  {
   "cell_type": "code",
   "execution_count": null,
   "metadata": {},
   "outputs": [],
   "source": []
  },
  {
   "cell_type": "code",
   "execution_count": null,
   "metadata": {},
   "outputs": [],
   "source": []
  },
  {
   "cell_type": "code",
   "execution_count": null,
   "metadata": {},
   "outputs": [],
   "source": []
  },
  {
   "cell_type": "code",
   "execution_count": null,
   "metadata": {},
   "outputs": [],
   "source": []
  },
  {
   "cell_type": "code",
   "execution_count": null,
   "metadata": {},
   "outputs": [],
   "source": []
  },
  {
   "cell_type": "code",
   "execution_count": null,
   "metadata": {},
   "outputs": [],
   "source": []
  },
  {
   "cell_type": "code",
   "execution_count": null,
   "metadata": {},
   "outputs": [],
   "source": []
  },
  {
   "cell_type": "code",
   "execution_count": null,
   "metadata": {},
   "outputs": [],
   "source": []
  },
  {
   "cell_type": "code",
   "execution_count": null,
   "metadata": {},
   "outputs": [],
   "source": []
  },
  {
   "cell_type": "code",
   "execution_count": null,
   "metadata": {},
   "outputs": [],
   "source": []
  },
  {
   "cell_type": "code",
   "execution_count": null,
   "metadata": {},
   "outputs": [],
   "source": []
  },
  {
   "cell_type": "code",
   "execution_count": null,
   "metadata": {},
   "outputs": [],
   "source": []
  },
  {
   "cell_type": "code",
   "execution_count": null,
   "metadata": {},
   "outputs": [],
   "source": []
  },
  {
   "cell_type": "code",
   "execution_count": null,
   "metadata": {},
   "outputs": [],
   "source": []
  },
  {
   "cell_type": "code",
   "execution_count": null,
   "metadata": {},
   "outputs": [],
   "source": []
  },
  {
   "cell_type": "code",
   "execution_count": 7,
   "metadata": {},
   "outputs": [
    {
     "name": "stderr",
     "output_type": "stream",
     "text": [
      "E:\\Users\\azmina.vanzara\\AppData\\Roaming\\Python\\Python38\\site-packages\\tpot\\builtins\\__init__.py:36: UserWarning: Warning: optional dependency `torch` is not available. - skipping import of NN models.\n",
      "  warnings.warn(\"Warning: optional dependency `torch` is not available. - skipping import of NN models.\")\n"
     ]
    }
   ],
   "source": [
    "from tpot import TPOTRegressor"
   ]
  },
  {
   "cell_type": "code",
   "execution_count": 24,
   "metadata": {},
   "outputs": [
    {
     "data": {
      "application/vnd.jupyter.widget-view+json": {
       "model_id": "8562261f06fb406b83390dd42f239965",
       "version_major": 2,
       "version_minor": 0
      },
      "text/plain": [
       "HBox(children=(FloatProgress(value=0.0, description='Optimization Progress', style=ProgressStyle(description_w…"
      ]
     },
     "metadata": {},
     "output_type": "display_data"
    },
    {
     "name": "stdout",
     "output_type": "stream",
     "text": [
      "\n",
      "31.07 minutes have elapsed. TPOT will close down.\n",
      "TPOT closed during evaluation in one generation.\n",
      "WARNING: TPOT may not provide a good pipeline if TPOT is stopped/interrupted in a early generation.\n",
      "\n",
      "\n",
      "TPOT closed prematurely. Will use the current best pipeline.\n",
      "\n",
      "Best pipeline: AdaBoostRegressor(VarianceThreshold(input_matrix, threshold=0.01), learning_rate=0.001, loss=linear, n_estimators=100)\n"
     ]
    },
    {
     "data": {
      "text/plain": [
       "TPOTRegressor(log_file=<ipykernel.iostream.OutStream object at 0x0000025D64D590D0>,\n",
       "              max_time_mins=30, verbosity=2)"
      ]
     },
     "execution_count": 24,
     "metadata": {},
     "output_type": "execute_result"
    }
   ],
   "source": [
    "tpot = TPOTRegressor(verbosity=2, max_time_mins=30)\n",
    "tpot.fit(X_train, y_train)"
   ]
  },
  {
   "cell_type": "code",
   "execution_count": 19,
   "metadata": {},
   "outputs": [],
   "source": [
    "tpot.export('tpot_iris_pipeline.py')"
   ]
  },
  {
   "cell_type": "code",
   "execution_count": 22,
   "metadata": {},
   "outputs": [
    {
     "name": "stdout",
     "output_type": "stream",
     "text": [
      "RMSE :  13806.710412653278\n"
     ]
    }
   ],
   "source": [
    "y_test_pred_tpot = tpot.predict(X_test)\n",
    "print(\"RMSE : \" , np.sqrt(mean_squared_error(y_test,y_test_pred_tpot)))"
   ]
  },
  {
   "cell_type": "code",
   "execution_count": 23,
   "metadata": {},
   "outputs": [],
   "source": [
    "preds_test = tpot.predict(x_test)\n",
    "download_preds(preds_test, file_name='tpot.csv')"
   ]
  },
  {
   "cell_type": "code",
   "execution_count": null,
   "metadata": {},
   "outputs": [],
   "source": []
  },
  {
   "cell_type": "code",
   "execution_count": null,
   "metadata": {},
   "outputs": [],
   "source": []
  },
  {
   "cell_type": "code",
   "execution_count": null,
   "metadata": {},
   "outputs": [],
   "source": []
  },
  {
   "cell_type": "code",
   "execution_count": null,
   "metadata": {},
   "outputs": [],
   "source": []
  }
 ],
 "metadata": {
  "kernelspec": {
   "display_name": "Python 3",
   "language": "python",
   "name": "python3"
  },
  "language_info": {
   "codemirror_mode": {
    "name": "ipython",
    "version": 3
   },
   "file_extension": ".py",
   "mimetype": "text/x-python",
   "name": "python",
   "nbconvert_exporter": "python",
   "pygments_lexer": "ipython3",
   "version": "3.8.3"
  }
 },
 "nbformat": 4,
 "nbformat_minor": 4
}
