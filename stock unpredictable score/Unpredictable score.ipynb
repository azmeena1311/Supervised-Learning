{
 "cells": [
  {
   "cell_type": "code",
   "execution_count": 1,
   "metadata": {},
   "outputs": [],
   "source": [
    "import numpy as np\n",
    "import pandas as pd\n",
    "import matplotlib.pyplot as plt\n",
    "import seaborn as sns"
   ]
  },
  {
   "cell_type": "code",
   "execution_count": 2,
   "metadata": {},
   "outputs": [],
   "source": [
    "df = pd.read_csv('Train_awoL0xl.csv')"
   ]
  },
  {
   "cell_type": "code",
   "execution_count": 3,
   "metadata": {},
   "outputs": [
    {
     "data": {
      "text/html": [
       "<div>\n",
       "<style scoped>\n",
       "    .dataframe tbody tr th:only-of-type {\n",
       "        vertical-align: middle;\n",
       "    }\n",
       "\n",
       "    .dataframe tbody tr th {\n",
       "        vertical-align: top;\n",
       "    }\n",
       "\n",
       "    .dataframe thead th {\n",
       "        text-align: right;\n",
       "    }\n",
       "</style>\n",
       "<table border=\"1\" class=\"dataframe\">\n",
       "  <thead>\n",
       "    <tr style=\"text-align: right;\">\n",
       "      <th></th>\n",
       "      <th>ID</th>\n",
       "      <th>stock</th>\n",
       "      <th>Date</th>\n",
       "      <th>Open</th>\n",
       "      <th>High</th>\n",
       "      <th>Low</th>\n",
       "      <th>Close</th>\n",
       "      <th>holiday</th>\n",
       "      <th>unpredictability_score</th>\n",
       "    </tr>\n",
       "  </thead>\n",
       "  <tbody>\n",
       "    <tr>\n",
       "      <th>0</th>\n",
       "      <td>id_0</td>\n",
       "      <td>0</td>\n",
       "      <td>2017-01-03</td>\n",
       "      <td>82.9961</td>\n",
       "      <td>82.7396</td>\n",
       "      <td>82.9144</td>\n",
       "      <td>82.8101</td>\n",
       "      <td>1</td>\n",
       "      <td>7</td>\n",
       "    </tr>\n",
       "    <tr>\n",
       "      <th>1</th>\n",
       "      <td>id_1</td>\n",
       "      <td>0</td>\n",
       "      <td>2017-01-04</td>\n",
       "      <td>83.1312</td>\n",
       "      <td>83.1669</td>\n",
       "      <td>83.3779</td>\n",
       "      <td>82.9690</td>\n",
       "      <td>0</td>\n",
       "      <td>7</td>\n",
       "    </tr>\n",
       "    <tr>\n",
       "      <th>2</th>\n",
       "      <td>id_2</td>\n",
       "      <td>0</td>\n",
       "      <td>2017-01-05</td>\n",
       "      <td>82.6622</td>\n",
       "      <td>82.7634</td>\n",
       "      <td>82.8984</td>\n",
       "      <td>82.8578</td>\n",
       "      <td>0</td>\n",
       "      <td>7</td>\n",
       "    </tr>\n",
       "    <tr>\n",
       "      <th>3</th>\n",
       "      <td>id_3</td>\n",
       "      <td>0</td>\n",
       "      <td>2017-01-06</td>\n",
       "      <td>83.0279</td>\n",
       "      <td>82.7950</td>\n",
       "      <td>82.8425</td>\n",
       "      <td>82.7385</td>\n",
       "      <td>0</td>\n",
       "      <td>7</td>\n",
       "    </tr>\n",
       "    <tr>\n",
       "      <th>4</th>\n",
       "      <td>id_4</td>\n",
       "      <td>0</td>\n",
       "      <td>2017-01-09</td>\n",
       "      <td>82.3761</td>\n",
       "      <td>82.0828</td>\n",
       "      <td>82.1473</td>\n",
       "      <td>81.8641</td>\n",
       "      <td>0</td>\n",
       "      <td>7</td>\n",
       "    </tr>\n",
       "    <tr>\n",
       "      <th>5</th>\n",
       "      <td>id_5</td>\n",
       "      <td>0</td>\n",
       "      <td>2017-01-10</td>\n",
       "      <td>81.7083</td>\n",
       "      <td>81.3390</td>\n",
       "      <td>80.9486</td>\n",
       "      <td>80.6796</td>\n",
       "      <td>0</td>\n",
       "      <td>7</td>\n",
       "    </tr>\n",
       "    <tr>\n",
       "      <th>6</th>\n",
       "      <td>id_6</td>\n",
       "      <td>0</td>\n",
       "      <td>2017-01-11</td>\n",
       "      <td>80.5319</td>\n",
       "      <td>80.5793</td>\n",
       "      <td>80.6769</td>\n",
       "      <td>80.5523</td>\n",
       "      <td>0</td>\n",
       "      <td>7</td>\n",
       "    </tr>\n",
       "    <tr>\n",
       "      <th>7</th>\n",
       "      <td>id_7</td>\n",
       "      <td>0</td>\n",
       "      <td>2017-01-12</td>\n",
       "      <td>80.4285</td>\n",
       "      <td>80.7059</td>\n",
       "      <td>80.8127</td>\n",
       "      <td>80.5762</td>\n",
       "      <td>0</td>\n",
       "      <td>7</td>\n",
       "    </tr>\n",
       "    <tr>\n",
       "      <th>8</th>\n",
       "      <td>id_8</td>\n",
       "      <td>0</td>\n",
       "      <td>2017-01-13</td>\n",
       "      <td>80.5637</td>\n",
       "      <td>80.3815</td>\n",
       "      <td>80.5250</td>\n",
       "      <td>80.3457</td>\n",
       "      <td>0</td>\n",
       "      <td>7</td>\n",
       "    </tr>\n",
       "    <tr>\n",
       "      <th>9</th>\n",
       "      <td>id_9</td>\n",
       "      <td>0</td>\n",
       "      <td>2017-01-17</td>\n",
       "      <td>79.9198</td>\n",
       "      <td>80.5476</td>\n",
       "      <td>80.3972</td>\n",
       "      <td>80.8544</td>\n",
       "      <td>0</td>\n",
       "      <td>7</td>\n",
       "    </tr>\n",
       "  </tbody>\n",
       "</table>\n",
       "</div>"
      ],
      "text/plain": [
       "     ID  stock        Date     Open     High      Low    Close  holiday  \\\n",
       "0  id_0      0  2017-01-03  82.9961  82.7396  82.9144  82.8101        1   \n",
       "1  id_1      0  2017-01-04  83.1312  83.1669  83.3779  82.9690        0   \n",
       "2  id_2      0  2017-01-05  82.6622  82.7634  82.8984  82.8578        0   \n",
       "3  id_3      0  2017-01-06  83.0279  82.7950  82.8425  82.7385        0   \n",
       "4  id_4      0  2017-01-09  82.3761  82.0828  82.1473  81.8641        0   \n",
       "5  id_5      0  2017-01-10  81.7083  81.3390  80.9486  80.6796        0   \n",
       "6  id_6      0  2017-01-11  80.5319  80.5793  80.6769  80.5523        0   \n",
       "7  id_7      0  2017-01-12  80.4285  80.7059  80.8127  80.5762        0   \n",
       "8  id_8      0  2017-01-13  80.5637  80.3815  80.5250  80.3457        0   \n",
       "9  id_9      0  2017-01-17  79.9198  80.5476  80.3972  80.8544        0   \n",
       "\n",
       "   unpredictability_score  \n",
       "0                       7  \n",
       "1                       7  \n",
       "2                       7  \n",
       "3                       7  \n",
       "4                       7  \n",
       "5                       7  \n",
       "6                       7  \n",
       "7                       7  \n",
       "8                       7  \n",
       "9                       7  "
      ]
     },
     "execution_count": 3,
     "metadata": {},
     "output_type": "execute_result"
    }
   ],
   "source": [
    "df.head(10)"
   ]
  },
  {
   "cell_type": "code",
   "execution_count": 4,
   "metadata": {},
   "outputs": [
    {
     "name": "stdout",
     "output_type": "stream",
     "text": [
      "<class 'pandas.core.frame.DataFrame'>\n",
      "RangeIndex: 73439 entries, 0 to 73438\n",
      "Data columns (total 9 columns):\n",
      " #   Column                  Non-Null Count  Dtype  \n",
      "---  ------                  --------------  -----  \n",
      " 0   ID                      73439 non-null  object \n",
      " 1   stock                   73439 non-null  int64  \n",
      " 2   Date                    73439 non-null  object \n",
      " 3   Open                    73439 non-null  float64\n",
      " 4   High                    73439 non-null  float64\n",
      " 5   Low                     73439 non-null  float64\n",
      " 6   Close                   73439 non-null  float64\n",
      " 7   holiday                 73439 non-null  int64  \n",
      " 8   unpredictability_score  73439 non-null  int64  \n",
      "dtypes: float64(4), int64(3), object(2)\n",
      "memory usage: 5.0+ MB\n"
     ]
    }
   ],
   "source": [
    "df.info()"
   ]
  },
  {
   "cell_type": "code",
   "execution_count": 5,
   "metadata": {},
   "outputs": [
    {
     "data": {
      "text/plain": [
       "10"
      ]
     },
     "execution_count": 5,
     "metadata": {},
     "output_type": "execute_result"
    }
   ],
   "source": [
    "df['unpredictability_score'].nunique()"
   ]
  },
  {
   "cell_type": "code",
   "execution_count": 6,
   "metadata": {},
   "outputs": [],
   "source": [
    "corr = df.corr()"
   ]
  },
  {
   "cell_type": "code",
   "execution_count": 7,
   "metadata": {},
   "outputs": [
    {
     "name": "stdout",
     "output_type": "stream",
     "text": [
      "unpredictability_score    1.000000e+00\n",
      "High                      5.811541e-01\n",
      "Close                     5.772335e-01\n",
      "Open                      5.771910e-01\n",
      "Low                       5.730408e-01\n",
      "stock                     2.606291e-01\n",
      "holiday                   1.561849e-17\n",
      "Name: unpredictability_score, dtype: float64\n"
     ]
    }
   ],
   "source": [
    "corr_matrix = abs(corr)\n",
    "print(corr_matrix[\"unpredictability_score\"].sort_values(ascending=False).head(10))"
   ]
  },
  {
   "cell_type": "code",
   "execution_count": 8,
   "metadata": {},
   "outputs": [
    {
     "data": {
      "text/plain": [
       "<matplotlib.axes._subplots.AxesSubplot at 0x1e8a2e46280>"
      ]
     },
     "execution_count": 8,
     "metadata": {},
     "output_type": "execute_result"
    },
    {
     "data": {
      "image/png": "[encoded data removed]",
      "text/plain": [
       "<Figure size 432x288 with 1 Axes>"
      ]
     },
     "metadata": {
      "needs_background": "light"
     },
     "output_type": "display_data"
    }
   ],
   "source": [
    "sns.countplot(df.holiday)"
   ]
  },
  {
   "cell_type": "code",
   "execution_count": 9,
   "metadata": {},
   "outputs": [
    {
     "data": {
      "text/plain": [
       "<matplotlib.axes._subplots.AxesSubplot at 0x1e8a37a5670>"
      ]
     },
     "execution_count": 9,
     "metadata": {},
     "output_type": "execute_result"
    },
    {
     "data": {
      "image/png": "[encoded data removed]",
      "text/plain": [
       "<Figure size 432x288 with 1 Axes>"
      ]
     },
     "metadata": {
      "needs_background": "light"
     },
     "output_type": "display_data"
    }
   ],
   "source": [
    "sns.countplot(df.stock)"
   ]
  },
  {
   "cell_type": "code",
   "execution_count": 10,
   "metadata": {},
   "outputs": [],
   "source": [
    "df['Date'] = pd.to_datetime(df['Date'],format= '%Y-%m-%d')"
   ]
  },
  {
   "cell_type": "code",
   "execution_count": 11,
   "metadata": {},
   "outputs": [
    {
     "data": {
      "text/html": [
       "<div>\n",
       "<style scoped>\n",
       "    .dataframe tbody tr th:only-of-type {\n",
       "        vertical-align: middle;\n",
       "    }\n",
       "\n",
       "    .dataframe tbody tr th {\n",
       "        vertical-align: top;\n",
       "    }\n",
       "\n",
       "    .dataframe thead th {\n",
       "        text-align: right;\n",
       "    }\n",
       "</style>\n",
       "<table border=\"1\" class=\"dataframe\">\n",
       "  <thead>\n",
       "    <tr style=\"text-align: right;\">\n",
       "      <th></th>\n",
       "      <th>ID</th>\n",
       "      <th>stock</th>\n",
       "      <th>Date</th>\n",
       "      <th>Open</th>\n",
       "      <th>High</th>\n",
       "      <th>Low</th>\n",
       "      <th>Close</th>\n",
       "      <th>holiday</th>\n",
       "      <th>unpredictability_score</th>\n",
       "    </tr>\n",
       "  </thead>\n",
       "  <tbody>\n",
       "    <tr>\n",
       "      <th>0</th>\n",
       "      <td>id_0</td>\n",
       "      <td>0</td>\n",
       "      <td>2017-01-03</td>\n",
       "      <td>82.9961</td>\n",
       "      <td>82.7396</td>\n",
       "      <td>82.9144</td>\n",
       "      <td>82.8101</td>\n",
       "      <td>1</td>\n",
       "      <td>7</td>\n",
       "    </tr>\n",
       "    <tr>\n",
       "      <th>1</th>\n",
       "      <td>id_1</td>\n",
       "      <td>0</td>\n",
       "      <td>2017-01-04</td>\n",
       "      <td>83.1312</td>\n",
       "      <td>83.1669</td>\n",
       "      <td>83.3779</td>\n",
       "      <td>82.9690</td>\n",
       "      <td>0</td>\n",
       "      <td>7</td>\n",
       "    </tr>\n",
       "    <tr>\n",
       "      <th>2</th>\n",
       "      <td>id_2</td>\n",
       "      <td>0</td>\n",
       "      <td>2017-01-05</td>\n",
       "      <td>82.6622</td>\n",
       "      <td>82.7634</td>\n",
       "      <td>82.8984</td>\n",
       "      <td>82.8578</td>\n",
       "      <td>0</td>\n",
       "      <td>7</td>\n",
       "    </tr>\n",
       "    <tr>\n",
       "      <th>3</th>\n",
       "      <td>id_3</td>\n",
       "      <td>0</td>\n",
       "      <td>2017-01-06</td>\n",
       "      <td>83.0279</td>\n",
       "      <td>82.7950</td>\n",
       "      <td>82.8425</td>\n",
       "      <td>82.7385</td>\n",
       "      <td>0</td>\n",
       "      <td>7</td>\n",
       "    </tr>\n",
       "    <tr>\n",
       "      <th>4</th>\n",
       "      <td>id_4</td>\n",
       "      <td>0</td>\n",
       "      <td>2017-01-09</td>\n",
       "      <td>82.3761</td>\n",
       "      <td>82.0828</td>\n",
       "      <td>82.1473</td>\n",
       "      <td>81.8641</td>\n",
       "      <td>0</td>\n",
       "      <td>7</td>\n",
       "    </tr>\n",
       "  </tbody>\n",
       "</table>\n",
       "</div>"
      ],
      "text/plain": [
       "     ID  stock       Date     Open     High      Low    Close  holiday  \\\n",
       "0  id_0      0 2017-01-03  82.9961  82.7396  82.9144  82.8101        1   \n",
       "1  id_1      0 2017-01-04  83.1312  83.1669  83.3779  82.9690        0   \n",
       "2  id_2      0 2017-01-05  82.6622  82.7634  82.8984  82.8578        0   \n",
       "3  id_3      0 2017-01-06  83.0279  82.7950  82.8425  82.7385        0   \n",
       "4  id_4      0 2017-01-09  82.3761  82.0828  82.1473  81.8641        0   \n",
       "\n",
       "   unpredictability_score  \n",
       "0                       7  \n",
       "1                       7  \n",
       "2                       7  \n",
       "3                       7  \n",
       "4                       7  "
      ]
     },
     "execution_count": 11,
     "metadata": {},
     "output_type": "execute_result"
    }
   ],
   "source": [
    "df.head()"
   ]
  },
  {
   "cell_type": "code",
   "execution_count": 12,
   "metadata": {},
   "outputs": [],
   "source": [
    "df['month']=df['Date'].dt.month \n",
    "\n",
    "df['day']=df['Date'].dt.day \n",
    "\n",
    "df['year'] = df['Date'].dt.year\n"
   ]
  },
  {
   "cell_type": "code",
   "execution_count": 13,
   "metadata": {},
   "outputs": [
    {
     "data": {
      "text/html": [
       "<div>\n",
       "<style scoped>\n",
       "    .dataframe tbody tr th:only-of-type {\n",
       "        vertical-align: middle;\n",
       "    }\n",
       "\n",
       "    .dataframe tbody tr th {\n",
       "        vertical-align: top;\n",
       "    }\n",
       "\n",
       "    .dataframe thead th {\n",
       "        text-align: right;\n",
       "    }\n",
       "</style>\n",
       "<table border=\"1\" class=\"dataframe\">\n",
       "  <thead>\n",
       "    <tr style=\"text-align: right;\">\n",
       "      <th></th>\n",
       "      <th>ID</th>\n",
       "      <th>stock</th>\n",
       "      <th>Date</th>\n",
       "      <th>Open</th>\n",
       "      <th>High</th>\n",
       "      <th>Low</th>\n",
       "      <th>Close</th>\n",
       "      <th>holiday</th>\n",
       "      <th>unpredictability_score</th>\n",
       "      <th>month</th>\n",
       "      <th>day</th>\n",
       "      <th>year</th>\n",
       "    </tr>\n",
       "  </thead>\n",
       "  <tbody>\n",
       "    <tr>\n",
       "      <th>0</th>\n",
       "      <td>id_0</td>\n",
       "      <td>0</td>\n",
       "      <td>2017-01-03</td>\n",
       "      <td>82.9961</td>\n",
       "      <td>82.7396</td>\n",
       "      <td>82.9144</td>\n",
       "      <td>82.8101</td>\n",
       "      <td>1</td>\n",
       "      <td>7</td>\n",
       "      <td>1</td>\n",
       "      <td>3</td>\n",
       "      <td>2017</td>\n",
       "    </tr>\n",
       "    <tr>\n",
       "      <th>1</th>\n",
       "      <td>id_1</td>\n",
       "      <td>0</td>\n",
       "      <td>2017-01-04</td>\n",
       "      <td>83.1312</td>\n",
       "      <td>83.1669</td>\n",
       "      <td>83.3779</td>\n",
       "      <td>82.9690</td>\n",
       "      <td>0</td>\n",
       "      <td>7</td>\n",
       "      <td>1</td>\n",
       "      <td>4</td>\n",
       "      <td>2017</td>\n",
       "    </tr>\n",
       "    <tr>\n",
       "      <th>2</th>\n",
       "      <td>id_2</td>\n",
       "      <td>0</td>\n",
       "      <td>2017-01-05</td>\n",
       "      <td>82.6622</td>\n",
       "      <td>82.7634</td>\n",
       "      <td>82.8984</td>\n",
       "      <td>82.8578</td>\n",
       "      <td>0</td>\n",
       "      <td>7</td>\n",
       "      <td>1</td>\n",
       "      <td>5</td>\n",
       "      <td>2017</td>\n",
       "    </tr>\n",
       "    <tr>\n",
       "      <th>3</th>\n",
       "      <td>id_3</td>\n",
       "      <td>0</td>\n",
       "      <td>2017-01-06</td>\n",
       "      <td>83.0279</td>\n",
       "      <td>82.7950</td>\n",
       "      <td>82.8425</td>\n",
       "      <td>82.7385</td>\n",
       "      <td>0</td>\n",
       "      <td>7</td>\n",
       "      <td>1</td>\n",
       "      <td>6</td>\n",
       "      <td>2017</td>\n",
       "    </tr>\n",
       "    <tr>\n",
       "      <th>4</th>\n",
       "      <td>id_4</td>\n",
       "      <td>0</td>\n",
       "      <td>2017-01-09</td>\n",
       "      <td>82.3761</td>\n",
       "      <td>82.0828</td>\n",
       "      <td>82.1473</td>\n",
       "      <td>81.8641</td>\n",
       "      <td>0</td>\n",
       "      <td>7</td>\n",
       "      <td>1</td>\n",
       "      <td>9</td>\n",
       "      <td>2017</td>\n",
       "    </tr>\n",
       "  </tbody>\n",
       "</table>\n",
       "</div>"
      ],
      "text/plain": [
       "     ID  stock       Date     Open     High      Low    Close  holiday  \\\n",
       "0  id_0      0 2017-01-03  82.9961  82.7396  82.9144  82.8101        1   \n",
       "1  id_1      0 2017-01-04  83.1312  83.1669  83.3779  82.9690        0   \n",
       "2  id_2      0 2017-01-05  82.6622  82.7634  82.8984  82.8578        0   \n",
       "3  id_3      0 2017-01-06  83.0279  82.7950  82.8425  82.7385        0   \n",
       "4  id_4      0 2017-01-09  82.3761  82.0828  82.1473  81.8641        0   \n",
       "\n",
       "   unpredictability_score  month  day  year  \n",
       "0                       7      1    3  2017  \n",
       "1                       7      1    4  2017  \n",
       "2                       7      1    5  2017  \n",
       "3                       7      1    6  2017  \n",
       "4                       7      1    9  2017  "
      ]
     },
     "execution_count": 13,
     "metadata": {},
     "output_type": "execute_result"
    }
   ],
   "source": [
    "df.head()"
   ]
  },
  {
   "cell_type": "code",
   "execution_count": 14,
   "metadata": {},
   "outputs": [],
   "source": [
    "df = df.drop('Date',axis=1)"
   ]
  },
  {
   "cell_type": "code",
   "execution_count": 15,
   "metadata": {},
   "outputs": [
    {
     "name": "stdout",
     "output_type": "stream",
     "text": [
      "unpredictability_score    1.000000e+00\n",
      "High                      5.811541e-01\n",
      "Close                     5.772335e-01\n",
      "Open                      5.771910e-01\n",
      "Low                       5.730408e-01\n",
      "stock                     2.606291e-01\n",
      "year                      8.388003e-16\n",
      "month                     8.244564e-17\n",
      "holiday                   1.561849e-17\n",
      "day                       1.086791e-17\n",
      "Name: unpredictability_score, dtype: float64\n"
     ]
    }
   ],
   "source": [
    "corr = df.corr()\n",
    "corr_matrix = abs(corr)\n",
    "print(corr_matrix[\"unpredictability_score\"].sort_values(ascending=False).head(10))"
   ]
  },
  {
   "cell_type": "code",
   "execution_count": 16,
   "metadata": {},
   "outputs": [],
   "source": [
    "df = df.drop('day',axis=1)"
   ]
  },
  {
   "cell_type": "code",
   "execution_count": 17,
   "metadata": {},
   "outputs": [],
   "source": [
    "X = df.drop(\"unpredictability_score\",axis=1)\n",
    "y = df['unpredictability_score']"
   ]
  },
  {
   "cell_type": "code",
   "execution_count": 18,
   "metadata": {},
   "outputs": [],
   "source": [
    "X = X.drop('ID',axis=1)"
   ]
  },
  {
   "cell_type": "code",
   "execution_count": 19,
   "metadata": {},
   "outputs": [],
   "source": [
    "#preprocessing\n",
    "from sklearn.preprocessing import StandardScaler\n",
    "sc = StandardScaler()\n",
    "X = sc.fit_transform(X)"
   ]
  },
  {
   "cell_type": "code",
   "execution_count": 20,
   "metadata": {},
   "outputs": [],
   "source": [
    "from sklearn.model_selection import train_test_split\n",
    "X_train,X_test,y_train,y_test=train_test_split(X,y,test_size=0.25,random_state=37)"
   ]
  },
  {
   "cell_type": "code",
   "execution_count": 21,
   "metadata": {},
   "outputs": [
    {
     "data": {
      "text/plain": [
       "RandomForestClassifier(n_estimators=500, random_state=1)"
      ]
     },
     "execution_count": 21,
     "metadata": {},
     "output_type": "execute_result"
    }
   ],
   "source": [
    "from sklearn.ensemble import RandomForestClassifier\n",
    "clf = RandomForestClassifier(random_state=1,n_estimators=500)\n",
    "clf.fit(X_train, y_train)"
   ]
  },
  {
   "cell_type": "code",
   "execution_count": 22,
   "metadata": {},
   "outputs": [],
   "source": [
    "preds_val = clf.predict(X_test)"
   ]
  },
  {
   "cell_type": "code",
   "execution_count": 24,
   "metadata": {},
   "outputs": [
    {
     "data": {
      "text/plain": [
       "0.9905773420479302"
      ]
     },
     "execution_count": 24,
     "metadata": {},
     "output_type": "execute_result"
    }
   ],
   "source": [
    "from sklearn.metrics import accuracy_score\n",
    "\n",
    "accuracy_score(y_test, preds_val)"
   ]
  },
  {
   "cell_type": "code",
   "execution_count": null,
   "metadata": {},
   "outputs": [],
   "source": []
  }
 ],
 "metadata": {
  "kernelspec": {
   "display_name": "Python 3",
   "language": "python",
   "name": "python3"
  },
  "language_info": {
   "codemirror_mode": {
    "name": "ipython",
    "version": 3
   },
   "file_extension": ".py",
   "mimetype": "text/x-python",
   "name": "python",
   "nbconvert_exporter": "python",
   "pygments_lexer": "ipython3",
   "version": "3.8.3"
  }
 },
 "nbformat": 4,
 "nbformat_minor": 4
}
